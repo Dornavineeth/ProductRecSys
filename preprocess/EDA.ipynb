{
 "cells": [
  {
   "cell_type": "code",
   "execution_count": null,
   "metadata": {},
   "outputs": [],
   "source": [
    "from google.colab import drive\n",
    "drive.mount('/content/gdrive/')\n",
    "\n",
    "%cd gdrive/Shareddrives/COMPSCI532/data"
   ]
  },
  {
   "cell_type": "code",
   "execution_count": null,
   "metadata": {},
   "outputs": [],
   "source": [
    "import gzip\n",
    "import json\n",
    "import pandas as pd\n",
    "from tqdm import tqdm"
   ]
  },
  {
   "cell_type": "code",
   "execution_count": null,
   "metadata": {},
   "outputs": [],
   "source": [
    "# df = pd.read_csv('Books_5_10.0_v1.csv')\n",
    "# df = pd.read_csv('./data/data_1l.csv')\n",
    "df = pd.read_csv('data/data.csv')\n",
    "df = df.iloc[1_00_000]\n",
    "df.to_csv('data/data_1l.csv')\n",
    "# gdrive/Shareddrives/COMPSCI532/data/data/data_1l.csv\n",
    "df = df.rename(columns={\"overall\": \"rating\", \"asin\": \"productID\"})"
   ]
  }
 ],
 "metadata": {
  "language_info": {
   "name": "python"
  }
 },
 "nbformat": 4,
 "nbformat_minor": 2
}
