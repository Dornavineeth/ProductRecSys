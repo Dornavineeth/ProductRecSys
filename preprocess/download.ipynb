{
  "cells": [
    {
      "cell_type": "code",
      "execution_count": null,
      "metadata": {
        "colab": {
          "base_uri": "https://localhost:8080/"
        },
        "id": "GqdXVmfyi3XT",
        "outputId": "29c9b94d-b778-4301-e742-e930c8f8fe4f"
      },
      "outputs": [
        {
          "name": "stdout",
          "output_type": "stream",
          "text": [
            "Mounted at /content/gdrive/\n"
          ]
        }
      ],
      "source": [
        "from google.colab import drive\n",
        "drive.mount('/content/gdrive/')"
      ]
    },
    {
      "cell_type": "code",
      "execution_count": null,
      "metadata": {
        "colab": {
          "base_uri": "https://localhost:8080/"
        },
        "id": "zGnUy0Y_jd9Q",
        "outputId": "7f826d06-0bea-4d23-9fa9-38f0a1ccfa0e"
      },
      "outputs": [
        {
          "name": "stdout",
          "output_type": "stream",
          "text": [
            "/content/gdrive/Shareddrives/COMPSCI532/data\n"
          ]
        }
      ],
      "source": [
        "%cd gdrive/Shareddrives/COMPSCI532/data"
      ]
    },
    {
      "cell_type": "code",
      "execution_count": null,
      "metadata": {
        "colab": {
          "base_uri": "https://localhost:8080/"
        },
        "id": "70vj60xtjycl",
        "outputId": "f7352a89-7af4-4b26-956c-6bee72793a5e"
      },
      "outputs": [
        {
          "name": "stdout",
          "output_type": "stream",
          "text": [
            "--2023-11-06 02:57:49--  https://datarepo.eng.ucsd.edu/mcauley_group/data/amazon_v2/categoryFilesSmall/Books_5.json.gz\n",
            "Resolving datarepo.eng.ucsd.edu (datarepo.eng.ucsd.edu)... 132.239.8.30\n",
            "Connecting to datarepo.eng.ucsd.edu (datarepo.eng.ucsd.edu)|132.239.8.30|:443... connected.\n",
            "HTTP request sent, awaiting response... 200 OK\n",
            "Length: 7096438325 (6.6G) [application/x-gzip]\n",
            "Saving to: ‘Books_5.json.gz’\n",
            "\n",
            "Books_5.json.gz     100%[===================>]   6.61G  33.3MB/s    in 3m 20s  \n",
            "\n",
            "2023-11-06 03:01:09 (33.9 MB/s) - ‘Books_5.json.gz’ saved [7096438325/7096438325]\n",
            "\n"
          ]
        }
      ],
      "source": [
        "# # To Download data\n",
        "# !wget https://datarepo.eng.ucsd.edu/mcauley_group/data/amazon_v2/categoryFilesSmall/Books_5.json.gz"
      ]
    },
    {
      "cell_type": "code",
      "execution_count": null,
      "metadata": {
        "colab": {
          "base_uri": "https://localhost:8080/"
        },
        "id": "5J2HaWSrlQ5L",
        "outputId": "b761af4e-1306-4fe2-9049-4c65a2608cec"
      },
      "outputs": [
        {
          "name": "stdout",
          "output_type": "stream",
          "text": [
            "{'overall': 5.0, 'verified': False, 'reviewTime': '03 30, 2005', 'reviewerID': 'A1REUF3A1YCPHM', 'asin': '0001713353', 'style': {'Format:': ' Hardcover'}, 'reviewerName': 'TW Ervin II', 'reviewText': \"The King, the Mice and the Cheese by Nancy Gurney is an excellent children's book.  It is one that I well remember from my own childhood and purchased for my daughter who loves it.\\n\\nIt is about a king who has trouble with rude mice eating his cheese. He consults his wise men and they suggest cats to chase away the mice. The cats become a nuisance, so the wise men recommend the king bring in dogs to chase the cats away.  The cycle goes on until the mice are finally brought back to chase away the elephants, brought in to chase away the lions that'd chased away the dogs.\\n\\nThe story ends in compromise and friendship between the mice and the king.  The story also teaches cause and effect relationships.\\n\\nThe pictures that accompany the story are humorous and memorable.  I was thrilled to discover that it is back in print.  I *highly* recommend it for children ages 2 to 7.\", 'summary': 'A story children will love and learn from', 'unixReviewTime': 1112140800}\n"
          ]
        }
      ],
      "source": [
        "import gzip\n",
        "import json\n",
        "\n",
        "file_path = 'Books_5.json.gz'\n",
        "\n",
        "with gzip.open(file_path, 'rt', encoding='utf-8') as file:\n",
        "    for line in file:\n",
        "        data = json.loads(line)\n",
        "        print(data)\n",
        "        break"
      ]
    },
    {
      "cell_type": "code",
      "execution_count": null,
      "metadata": {
        "id": "OZUBRGLIpc9j"
      },
      "outputs": [],
      "source": []
    }
  ],
  "metadata": {
    "colab": {
      "provenance": []
    },
    "kernelspec": {
      "display_name": "Python 3",
      "name": "python3"
    },
    "language_info": {
      "name": "python"
    }
  },
  "nbformat": 4,
  "nbformat_minor": 0
}
